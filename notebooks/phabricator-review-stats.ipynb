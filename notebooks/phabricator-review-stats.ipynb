{
 "cells": [
  {
   "cell_type": "markdown",
   "metadata": {},
   "source": [
    "# Phabricator code review statistics\n",
    "\n",
    "Trends and statistics for Firefox code reviews using the Phabricator code review system."
   ]
  },
  {
   "cell_type": "code",
   "execution_count": 1,
   "metadata": {},
   "outputs": [],
   "source": [
    "import pandas as pd\n",
    "from pathlib import Path\n",
    "import seaborn as sns\n",
    "\n",
    "sns.set_style(\"dark\")"
   ]
  },
  {
   "cell_type": "markdown",
   "metadata": {},
   "source": [
    "Our dataset is the list of transactions that took place on each phabricator revision of the Firefox repository. "
   ]
  },
  {
   "cell_type": "code",
   "execution_count": 2,
   "metadata": {},
   "outputs": [],
   "source": [
    "datafile = Path.cwd() / \"..\" / \"data\" / \"processed\" / \"transactions.parq\"\n",
    "df = pd.read_parquet(str(datafile))"
   ]
  },
  {
   "cell_type": "markdown",
   "metadata": {},
   "source": [
    "Make our columns a bit easier to understand."
   ]
  },
  {
   "cell_type": "code",
   "execution_count": 3,
   "metadata": {},
   "outputs": [],
   "source": [
    "df = df.rename(columns={\"objectPHID\": \"revision\"})"
   ]
  },
  {
   "cell_type": "markdown",
   "metadata": {},
   "source": [
    "Extract the list of revision IDs."
   ]
  },
  {
   "cell_type": "code",
   "execution_count": 4,
   "metadata": {},
   "outputs": [
    {
     "data": {
      "text/plain": [
       "revision    16924\n",
       "dtype: int64"
      ]
     },
     "execution_count": 4,
     "metadata": {},
     "output_type": "execute_result"
    }
   ],
   "source": [
    "revisions = pd.DataFrame({\"revision\": df[\"revision\"].unique()})\n",
    "revisions.count()"
   ]
  },
  {
   "cell_type": "markdown",
   "metadata": {},
   "source": [
    "Extract the transactions that open and close revisions."
   ]
  },
  {
   "cell_type": "code",
   "execution_count": 5,
   "metadata": {},
   "outputs": [
    {
     "name": "stdout",
     "output_type": "stream",
     "text": [
      "Revisions opened over this time period: 16772\n",
      "Revisions closed over this time period: 15243\n"
     ]
    }
   ],
   "source": [
    "opens = df[df[\"type\"] == \"create\"][[\"revision\", \"dateCreated\"]]\n",
    "print(\"Revisions opened over this time period:\", len(opens))\n",
    "\n",
    "closes = df[df[\"type\"] == \"close\"][[\"revision\", \"dateCreated\"]]\n",
    "print(\"Revisions closed over this time period:\", len(closes))"
   ]
  },
  {
   "cell_type": "markdown",
   "metadata": {},
   "source": [
    "Combine the transactions into single rows per revision."
   ]
  },
  {
   "cell_type": "code",
   "execution_count": 6,
   "metadata": {},
   "outputs": [],
   "source": [
    "revisions = pd.merge(revisions, opens, on=\"revision\")\n",
    "\n",
    "# Change the column name so it makes sense in the merged dataframe\n",
    "closes = closes.rename(columns={\"dateCreated\": \"dateClosed\"})\n",
    "revisions = pd.merge(revisions, closes, on=\"revision\")"
   ]
  },
  {
   "cell_type": "markdown",
   "metadata": {},
   "source": [
    "Find the duration from revision creation to revision close."
   ]
  },
  {
   "cell_type": "code",
   "execution_count": 7,
   "metadata": {},
   "outputs": [],
   "source": [
    "durations = revisions[\"dateClosed\"] - revisions[\"dateCreated\"]"
   ]
  },
  {
   "cell_type": "code",
   "execution_count": 8,
   "metadata": {},
   "outputs": [
    {
     "data": {
      "text/plain": [
       "count                      15043\n",
       "mean      6 days 12:20:30.225819\n",
       "std      12 days 16:36:48.647852\n",
       "min              0 days 00:01:16\n",
       "25%              0 days 16:12:50\n",
       "50%              2 days 01:38:09\n",
       "75%              6 days 13:04:10\n",
       "95%      28 days 23:20:56.100000\n",
       "max            246 days 09:23:56\n",
       "dtype: object"
      ]
     },
     "execution_count": 8,
     "metadata": {},
     "output_type": "execute_result"
    }
   ],
   "source": [
    "durations.describe(percentiles=[0.25, 0.5, 0.75, 0.95])"
   ]
  },
  {
   "cell_type": "markdown",
   "metadata": {},
   "source": [
    "Limit the data to code reviews under 30 days to eliminate most outliers."
   ]
  },
  {
   "cell_type": "code",
   "execution_count": 9,
   "metadata": {},
   "outputs": [],
   "source": [
    "under30 = durations[durations.dt.days < 30]"
   ]
  },
  {
   "cell_type": "code",
   "execution_count": 10,
   "metadata": {
    "scrolled": false
   },
   "outputs": [
    {
     "data": {
      "image/png": "[encoded data removed]",
      "text/plain": [
       "<Figure size 720x432 with 1 Axes>"
      ]
     },
     "metadata": {
      "needs_background": "light"
     },
     "output_type": "display_data"
    }
   ],
   "source": [
    "days_to_review = under30.dt.total_seconds() / (3600 * 24)\n",
    "\n",
    "ax = days_to_review.hist(bins=30, figsize=(10,6))\n",
    "ax.set(\n",
    "    title=\"Code reviews closed within 30 days of creation\",\n",
    "    xlabel=\"Days until close\",\n",
    "    ylabel=\"Review count\",\n",
    ");"
   ]
  },
  {
   "cell_type": "markdown",
   "metadata": {},
   "source": [
    "Zooming in again, let's look at the distribution of review closings within 72 hours of the review being posted."
   ]
  },
  {
   "cell_type": "code",
   "execution_count": 11,
   "metadata": {
    "scrolled": false
   },
   "outputs": [
    {
     "data": {
      "image/png": "[encoded data removed]",
      "text/plain": [
       "<Figure size 720x432 with 1 Axes>"
      ]
     },
     "metadata": {
      "needs_background": "light"
     },
     "output_type": "display_data"
    }
   ],
   "source": [
    "hours_to_review = under30.dt.total_seconds() / 3600\n",
    "sample = hours_to_review[hours_to_review < 80]\n",
    "\n",
    "ax = sample.hist(bins=80, figsize=(10,6))\n",
    "ax.set(\n",
    "    title=\"Code reviews closed within 72 hours of creation\",\n",
    "    xlabel=\"Hours until close\",\n",
    "    xticks=range(0,81,5),\n",
    "    ylabel=\"Review count\",\n",
    ");\n",
    "\n",
    "barsize = sample.round().value_counts()\n",
    "\n",
    "for mark in (24, 48, 72):\n",
    "    ax.annotate(f\"{mark} hours\", xy=(mark, barsize[mark] + 10),\n",
    "                xytext=(mark, barsize[mark] + 200),\n",
    "                arrowprops=dict(facecolor='black', headwidth=4, width=2,\n",
    "                                headlength=4),\n",
    "                horizontalalignment='left', verticalalignment='top')"
   ]
  },
  {
   "cell_type": "code",
   "execution_count": null,
   "metadata": {},
   "outputs": [],
   "source": []
  }
 ],
 "metadata": {
  "kernelspec": {
   "display_name": "Python 3",
   "language": "python",
   "name": "python3"
  },
  "language_info": {
   "codemirror_mode": {
    "name": "ipython",
    "version": 3
   },
   "file_extension": ".py",
   "mimetype": "text/x-python",
   "name": "python",
   "nbconvert_exporter": "python",
   "pygments_lexer": "ipython3",
   "version": "3.6.5"
  }
 },
 "nbformat": 4,
 "nbformat_minor": 2
}
