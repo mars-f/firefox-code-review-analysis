{
 "cells": [
  {
   "cell_type": "markdown",
   "metadata": {},
   "source": [
    "# Phabricator code reviewers\n",
    "\n",
    "Trends and statistics for Firefox code reviews using the Phabricator code review system."
   ]
  },
  {
   "cell_type": "code",
   "execution_count": 1,
   "metadata": {},
   "outputs": [],
   "source": [
    "import pandas as pd\n",
    "from pathlib import Path\n",
    "import seaborn as sns\n",
    "\n",
    "sns.set_style(\"dark\")"
   ]
  },
  {
   "cell_type": "markdown",
   "metadata": {},
   "source": [
    "Our dataset is the list of transactions that took place on each phabricator revision of the Firefox repository. "
   ]
  },
  {
   "cell_type": "code",
   "execution_count": 2,
   "metadata": {},
   "outputs": [],
   "source": [
    "datafile = Path.cwd() / \"..\" / \"data\" / \"processed\" / \"transactions.parq\"\n",
    "df = pd.read_parquet(str(datafile))"
   ]
  },
  {
   "cell_type": "markdown",
   "metadata": {},
   "source": [
    "Make our columns a bit easier to understand."
   ]
  },
  {
   "cell_type": "code",
   "execution_count": 3,
   "metadata": {},
   "outputs": [],
   "source": [
    "df = df.rename(columns={\"objectPHID\": \"revision\"})"
   ]
  },
  {
   "cell_type": "markdown",
   "metadata": {},
   "source": [
    "Extract the list of revision IDs."
   ]
  },
  {
   "cell_type": "code",
   "execution_count": 4,
   "metadata": {},
   "outputs": [
    {
     "data": {
      "text/plain": [
       "revision    16924\n",
       "dtype: int64"
      ]
     },
     "execution_count": 4,
     "metadata": {},
     "output_type": "execute_result"
    }
   ],
   "source": [
    "revisions = pd.DataFrame({\"revision\": df[\"revision\"].unique()})\n",
    "revisions.count()"
   ]
  },
  {
   "cell_type": "markdown",
   "metadata": {},
   "source": [
    "Extract the transactions that open and close transactions."
   ]
  },
  {
   "cell_type": "code",
   "execution_count": 5,
   "metadata": {},
   "outputs": [
    {
     "name": "stdout",
     "output_type": "stream",
     "text": [
      "Revisions opened over this time period: 16772\n",
      "Revisions closed over this time period: 15243\n"
     ]
    }
   ],
   "source": [
    "opens = df[df[\"type\"] == \"create\"][[\"revision\", \"dateCreated\"]]\n",
    "print(\"Revisions opened over this time period:\", len(opens))\n",
    "\n",
    "closes = df[df[\"type\"] == \"close\"][[\"revision\", \"dateCreated\"]]\n",
    "print(\"Revisions closed over this time period:\", len(closes))"
   ]
  },
  {
   "cell_type": "markdown",
   "metadata": {},
   "source": [
    "Combine the transactions into single rows per revision."
   ]
  },
  {
   "cell_type": "code",
   "execution_count": 6,
   "metadata": {},
   "outputs": [],
   "source": [
    "revisions = pd.merge(revisions, opens, on=\"revision\")\n",
    "\n",
    "# Change the column name so it makes sense in the merged dataframe\n",
    "closes = closes.rename(columns={\"dateCreated\": \"dateClosed\"})\n",
    "revisions = pd.merge(revisions, closes, on=\"revision\")"
   ]
  },
  {
   "cell_type": "markdown",
   "metadata": {},
   "source": [
    "## How many reviews are performed per-reviewer?"
   ]
  },
  {
   "cell_type": "markdown",
   "metadata": {},
   "source": [
    "How many reviewers accepted revisions?"
   ]
  },
  {
   "cell_type": "code",
   "execution_count": 7,
   "metadata": {},
   "outputs": [
    {
     "data": {
      "text/plain": [
       "336"
      ]
     },
     "execution_count": 7,
     "metadata": {},
     "output_type": "execute_result"
    }
   ],
   "source": [
    "reviews = df[df[\"type\"] == \"accept\"][[\"revision\", \"authorPHID\", \"dateCreated\"]]\n",
    "reviews = reviews.rename(columns={\n",
    "    \"authorPHID\": \"reviewer\",\n",
    "    \"dateCreate\": \"dateReviewed\",\n",
    "})\n",
    "reviews[\"reviewer\"].nunique()"
   ]
  },
  {
   "cell_type": "code",
   "execution_count": 8,
   "metadata": {},
   "outputs": [],
   "source": [
    "byreviewer = reviews.groupby(\"reviewer\")"
   ]
  },
  {
   "cell_type": "code",
   "execution_count": 9,
   "metadata": {},
   "outputs": [],
   "source": [
    "review_count_by_reviewer = byreviewer.size()"
   ]
  },
  {
   "cell_type": "markdown",
   "metadata": {},
   "source": [
    "Are there any reviewers that look to be helper bots because of an abnormal number of reviews?"
   ]
  },
  {
   "cell_type": "code",
   "execution_count": 10,
   "metadata": {},
   "outputs": [
    {
     "data": {
      "text/plain": [
       "reviewer\n",
       "PHID-USER-mwithgebwtz2ytyehnps    453\n",
       "PHID-USER-sj37bt54oolbdxrxiirg    450\n",
       "PHID-USER-7hxjutcooeszod3rg3dr    427\n",
       "PHID-USER-ppexvnh4ahku2ypgjpmd    326\n",
       "PHID-USER-7kwqcpqrdv7xuk47hcvc    324\n",
       "dtype: int64"
      ]
     },
     "execution_count": 10,
     "metadata": {},
     "output_type": "execute_result"
    }
   ],
   "source": [
    "review_count_by_reviewer.nlargest()"
   ]
  },
  {
   "cell_type": "markdown",
   "metadata": {},
   "source": [
    "The number of reviews per-reviewer slopes down gradually and the largest number of reviews is only a fraction of the total reviews so they are probably all real users."
   ]
  },
  {
   "cell_type": "markdown",
   "metadata": {},
   "source": [
    "What does the distribution of the number of reviews performed across all reviewers look like?"
   ]
  },
  {
   "cell_type": "code",
   "execution_count": 11,
   "metadata": {},
   "outputs": [
    {
     "data": {
      "image/png": "[encoded data removed]",
      "text/plain": [
       "<Figure size 432x288 with 1 Axes>"
      ]
     },
     "metadata": {
      "needs_background": "light"
     },
     "output_type": "display_data"
    }
   ],
   "source": [
    "ax = review_count_by_reviewer.sort_values(ascending=False).plot()\n",
    "ax.get_xaxis().set_visible(False)"
   ]
  },
  {
   "cell_type": "code",
   "execution_count": 12,
   "metadata": {},
   "outputs": [
    {
     "data": {
      "text/plain": [
       "count    336.000000\n",
       "mean      49.592262\n",
       "std       69.053886\n",
       "min        1.000000\n",
       "25%        5.750000\n",
       "50%       20.000000\n",
       "75%       67.250000\n",
       "max      453.000000\n",
       "dtype: float64"
      ]
     },
     "execution_count": 12,
     "metadata": {},
     "output_type": "execute_result"
    }
   ],
   "source": [
    "review_count_by_reviewer.describe()"
   ]
  },
  {
   "cell_type": "markdown",
   "metadata": {},
   "source": [
    "## What is the median time for a reviewer to first review code?"
   ]
  },
  {
   "cell_type": "code",
   "execution_count": 13,
   "metadata": {},
   "outputs": [],
   "source": [
    "# Make sure we take business days/weekends into account!\n",
    "def bday_duration(x):\n",
    "    \"\"\"Duration in business days.\"\"\"\n",
    "    opened = x[\"dateCreated\"]\n",
    "    closed = x[\"dateClosed\"]\n",
    "    duration = closed - opened\n",
    "    if duration.days < 2:\n",
    "        # We could have closed or opened on a weekend.\n",
    "        return duration\n",
    "    \n",
    "    if closed.weekday() < opened.weekday():\n",
    "        # Falls over a weekend.  Subtract 2 calendar days.\n",
    "        offset = pd.offsets.Day(-2)\n",
    "    else:\n",
    "        offset = pd.offsets.Day(0)\n",
    "    return duration + offset\n"
   ]
  },
  {
   "cell_type": "markdown",
   "metadata": {},
   "source": [
    "What kinds of transactions do we have to consider?"
   ]
  },
  {
   "cell_type": "code",
   "execution_count": 14,
   "metadata": {},
   "outputs": [
    {
     "data": {
      "text/plain": [
       "update             53160\n",
       "inline             38278\n",
       "comment            35185\n",
       "status             20644\n",
       "title              19075\n",
       "create             16772\n",
       "accept             16663\n",
       "request-review     16632\n",
       "close              15243\n",
       "request-changes     3479\n",
       "abandon             1828\n",
       "reopen              1608\n",
       "plan-changes         369\n",
       "resign               292\n",
       "commandeer           234\n",
       "reclaim               34\n",
       "Name: type, dtype: int64"
      ]
     },
     "execution_count": 14,
     "metadata": {},
     "output_type": "execute_result"
    }
   ],
   "source": [
    "df[\"type\"].value_counts()"
   ]
  },
  {
   "cell_type": "markdown",
   "metadata": {},
   "source": [
    "Find the transactions where a reviewer interacted with a code review."
   ]
  },
  {
   "cell_type": "code",
   "execution_count": 15,
   "metadata": {},
   "outputs": [
    {
     "name": "stdout",
     "output_type": "stream",
     "text": [
      "Total times reviewers interacted with code reviews: 20434\n"
     ]
    }
   ],
   "source": [
    "interaction_types = (\"accept\", \"request-changes\", \"resign\")\n",
    "interactions = df[df[\"type\"].isin(interaction_types)].rename(\n",
    "    columns={\n",
    "        \"authorPHID\": \"reviewer\",\n",
    "        \"dateCreated\": \"dateReviewed\",\n",
    "    }\n",
    ")\n",
    "print(\"Total times reviewers interacted with code reviews:\", len(interactions))"
   ]
  },
  {
   "cell_type": "markdown",
   "metadata": {},
   "source": [
    "We only want to measure the time a review spent in the \"Needs Review\" state.  That state could be interrupted by (potentially long) periods of the review sitting in the \"Planned Changes\" state.  To simplify the calculation of the time spent waiting for review we can exlude all reviews that spent time in \"Planned Changes\"."
   ]
  },
  {
   "cell_type": "code",
   "execution_count": 16,
   "metadata": {},
   "outputs": [
    {
     "name": "stdout",
     "output_type": "stream",
     "text": [
      "Reviews with changes planned: 304\n"
     ]
    }
   ],
   "source": [
    "changes_planned = df[df[\"type\"] == \"plan-changes\"]\n",
    "print(\"Reviews with changes planned:\", changes_planned[\"revision\"].nunique())"
   ]
  },
  {
   "cell_type": "code",
   "execution_count": 17,
   "metadata": {},
   "outputs": [],
   "source": [
    "changes_planned_rev_array = changes_planned[\"revision\"].unique()"
   ]
  },
  {
   "cell_type": "markdown",
   "metadata": {},
   "source": [
    "Dump the \"Planned Changes\" transactions."
   ]
  },
  {
   "cell_type": "code",
   "execution_count": 18,
   "metadata": {},
   "outputs": [],
   "source": [
    "interactions = interactions.set_index(\"revision\").drop(changes_planned_rev_array, errors=\"ignore\")"
   ]
  },
  {
   "cell_type": "markdown",
   "metadata": {},
   "source": [
    "Sort all of the interactions by date.  Then Group all interactions by reviewer and then by revision, creating (reviewer, revision) pairs for each interaction.\n",
    "\n",
    "Keep just the first interaction from each (reviewer, review) interaction pair, which corresponds to the first time the reviewer X worked with revision Y."
   ]
  },
  {
   "cell_type": "code",
   "execution_count": 19,
   "metadata": {},
   "outputs": [],
   "source": [
    "first_review = interactions.sort_values(by=\"dateReviewed\").groupby([\"reviewer\", \"revision\"], sort=False).first()"
   ]
  },
  {
   "cell_type": "markdown",
   "metadata": {},
   "source": [
    "Merge in the time that the revisions were first created."
   ]
  },
  {
   "cell_type": "code",
   "execution_count": 20,
   "metadata": {},
   "outputs": [
    {
     "data": {
      "text/plain": [
       "(16312, 8)"
      ]
     },
     "execution_count": 20,
     "metadata": {},
     "output_type": "execute_result"
    }
   ],
   "source": [
    "opens = df[df[\"type\"] == \"create\"][[\"revision\", \"dateCreated\"]].rename(\n",
    "    columns={\"dateCreated\": \"dateRevisionCreated\"}\n",
    ")\n",
    "reviews = pd.merge(first_review.reset_index(), opens, on=\"revision\")\n",
    "reviews.shape"
   ]
  },
  {
   "cell_type": "markdown",
   "metadata": {},
   "source": [
    "When calculating the time from revision creation until a review is performed we want to calculate *business days*, not calendar days."
   ]
  },
  {
   "cell_type": "code",
   "execution_count": 21,
   "metadata": {},
   "outputs": [],
   "source": [
    "from businessdays import bday_duration\n",
    "\n",
    "reviews[\"duration\"] = reviews.apply(\n",
    "    lambda x: bday_duration(x[\"dateRevisionCreated\"], x[\"dateReviewed\"]),\n",
    "    axis=\"columns\",\n",
    ")"
   ]
  },
  {
   "cell_type": "markdown",
   "metadata": {},
   "source": [
    "Group by reviewer and find the median time to review."
   ]
  },
  {
   "cell_type": "code",
   "execution_count": 27,
   "metadata": {},
   "outputs": [
    {
     "data": {
      "text/html": [
       "<div>\n",
       "<style scoped>\n",
       "    .dataframe tbody tr th:only-of-type {\n",
       "        vertical-align: middle;\n",
       "    }\n",
       "\n",
       "    .dataframe tbody tr th {\n",
       "        vertical-align: top;\n",
       "    }\n",
       "\n",
       "    .dataframe thead th {\n",
       "        text-align: right;\n",
       "    }\n",
       "</style>\n",
       "<table border=\"1\" class=\"dataframe\">\n",
       "  <thead>\n",
       "    <tr style=\"text-align: right;\">\n",
       "      <th></th>\n",
       "      <th>median_hours_to_review</th>\n",
       "      <th>review_count</th>\n",
       "    </tr>\n",
       "  </thead>\n",
       "  <tbody>\n",
       "    <tr>\n",
       "      <th>0</th>\n",
       "      <td>14.470556</td>\n",
       "      <td>461</td>\n",
       "    </tr>\n",
       "    <tr>\n",
       "      <th>1</th>\n",
       "      <td>0.092361</td>\n",
       "      <td>450</td>\n",
       "    </tr>\n",
       "    <tr>\n",
       "      <th>2</th>\n",
       "      <td>11.534167</td>\n",
       "      <td>416</td>\n",
       "    </tr>\n",
       "    <tr>\n",
       "      <th>3</th>\n",
       "      <td>15.834444</td>\n",
       "      <td>317</td>\n",
       "    </tr>\n",
       "    <tr>\n",
       "      <th>4</th>\n",
       "      <td>14.165417</td>\n",
       "      <td>312</td>\n",
       "    </tr>\n",
       "    <tr>\n",
       "      <th>5</th>\n",
       "      <td>9.161111</td>\n",
       "      <td>257</td>\n",
       "    </tr>\n",
       "    <tr>\n",
       "      <th>6</th>\n",
       "      <td>12.953333</td>\n",
       "      <td>251</td>\n",
       "    </tr>\n",
       "    <tr>\n",
       "      <th>7</th>\n",
       "      <td>2.780556</td>\n",
       "      <td>238</td>\n",
       "    </tr>\n",
       "    <tr>\n",
       "      <th>8</th>\n",
       "      <td>19.517500</td>\n",
       "      <td>207</td>\n",
       "    </tr>\n",
       "    <tr>\n",
       "      <th>9</th>\n",
       "      <td>24.237639</td>\n",
       "      <td>204</td>\n",
       "    </tr>\n",
       "    <tr>\n",
       "      <th>10</th>\n",
       "      <td>22.545278</td>\n",
       "      <td>203</td>\n",
       "    </tr>\n",
       "    <tr>\n",
       "      <th>11</th>\n",
       "      <td>27.797083</td>\n",
       "      <td>200</td>\n",
       "    </tr>\n",
       "    <tr>\n",
       "      <th>12</th>\n",
       "      <td>25.161389</td>\n",
       "      <td>199</td>\n",
       "    </tr>\n",
       "    <tr>\n",
       "      <th>13</th>\n",
       "      <td>17.702500</td>\n",
       "      <td>199</td>\n",
       "    </tr>\n",
       "    <tr>\n",
       "      <th>14</th>\n",
       "      <td>24.460278</td>\n",
       "      <td>194</td>\n",
       "    </tr>\n",
       "    <tr>\n",
       "      <th>15</th>\n",
       "      <td>15.424167</td>\n",
       "      <td>180</td>\n",
       "    </tr>\n",
       "    <tr>\n",
       "      <th>16</th>\n",
       "      <td>3.693611</td>\n",
       "      <td>173</td>\n",
       "    </tr>\n",
       "    <tr>\n",
       "      <th>17</th>\n",
       "      <td>16.807639</td>\n",
       "      <td>166</td>\n",
       "    </tr>\n",
       "    <tr>\n",
       "      <th>18</th>\n",
       "      <td>50.726111</td>\n",
       "      <td>165</td>\n",
       "    </tr>\n",
       "    <tr>\n",
       "      <th>19</th>\n",
       "      <td>21.628750</td>\n",
       "      <td>164</td>\n",
       "    </tr>\n",
       "    <tr>\n",
       "      <th>20</th>\n",
       "      <td>9.765972</td>\n",
       "      <td>164</td>\n",
       "    </tr>\n",
       "    <tr>\n",
       "      <th>21</th>\n",
       "      <td>1.534028</td>\n",
       "      <td>160</td>\n",
       "    </tr>\n",
       "    <tr>\n",
       "      <th>22</th>\n",
       "      <td>1.427361</td>\n",
       "      <td>156</td>\n",
       "    </tr>\n",
       "    <tr>\n",
       "      <th>23</th>\n",
       "      <td>7.450556</td>\n",
       "      <td>151</td>\n",
       "    </tr>\n",
       "    <tr>\n",
       "      <th>24</th>\n",
       "      <td>14.091389</td>\n",
       "      <td>151</td>\n",
       "    </tr>\n",
       "    <tr>\n",
       "      <th>25</th>\n",
       "      <td>16.204722</td>\n",
       "      <td>148</td>\n",
       "    </tr>\n",
       "    <tr>\n",
       "      <th>26</th>\n",
       "      <td>23.110972</td>\n",
       "      <td>142</td>\n",
       "    </tr>\n",
       "    <tr>\n",
       "      <th>27</th>\n",
       "      <td>21.661944</td>\n",
       "      <td>141</td>\n",
       "    </tr>\n",
       "    <tr>\n",
       "      <th>28</th>\n",
       "      <td>9.771389</td>\n",
       "      <td>141</td>\n",
       "    </tr>\n",
       "    <tr>\n",
       "      <th>29</th>\n",
       "      <td>25.153472</td>\n",
       "      <td>138</td>\n",
       "    </tr>\n",
       "    <tr>\n",
       "      <th>30</th>\n",
       "      <td>13.452222</td>\n",
       "      <td>137</td>\n",
       "    </tr>\n",
       "    <tr>\n",
       "      <th>31</th>\n",
       "      <td>13.516667</td>\n",
       "      <td>135</td>\n",
       "    </tr>\n",
       "    <tr>\n",
       "      <th>32</th>\n",
       "      <td>5.568056</td>\n",
       "      <td>133</td>\n",
       "    </tr>\n",
       "    <tr>\n",
       "      <th>33</th>\n",
       "      <td>25.215556</td>\n",
       "      <td>131</td>\n",
       "    </tr>\n",
       "    <tr>\n",
       "      <th>34</th>\n",
       "      <td>19.034861</td>\n",
       "      <td>130</td>\n",
       "    </tr>\n",
       "    <tr>\n",
       "      <th>35</th>\n",
       "      <td>16.976944</td>\n",
       "      <td>129</td>\n",
       "    </tr>\n",
       "    <tr>\n",
       "      <th>36</th>\n",
       "      <td>2.418056</td>\n",
       "      <td>129</td>\n",
       "    </tr>\n",
       "    <tr>\n",
       "      <th>37</th>\n",
       "      <td>4.861944</td>\n",
       "      <td>127</td>\n",
       "    </tr>\n",
       "    <tr>\n",
       "      <th>38</th>\n",
       "      <td>4.780417</td>\n",
       "      <td>126</td>\n",
       "    </tr>\n",
       "    <tr>\n",
       "      <th>39</th>\n",
       "      <td>21.112778</td>\n",
       "      <td>125</td>\n",
       "    </tr>\n",
       "    <tr>\n",
       "      <th>40</th>\n",
       "      <td>15.224167</td>\n",
       "      <td>123</td>\n",
       "    </tr>\n",
       "    <tr>\n",
       "      <th>41</th>\n",
       "      <td>4.810000</td>\n",
       "      <td>120</td>\n",
       "    </tr>\n",
       "    <tr>\n",
       "      <th>42</th>\n",
       "      <td>15.263056</td>\n",
       "      <td>120</td>\n",
       "    </tr>\n",
       "    <tr>\n",
       "      <th>43</th>\n",
       "      <td>0.890278</td>\n",
       "      <td>119</td>\n",
       "    </tr>\n",
       "    <tr>\n",
       "      <th>44</th>\n",
       "      <td>19.918611</td>\n",
       "      <td>119</td>\n",
       "    </tr>\n",
       "    <tr>\n",
       "      <th>45</th>\n",
       "      <td>10.012778</td>\n",
       "      <td>117</td>\n",
       "    </tr>\n",
       "    <tr>\n",
       "      <th>46</th>\n",
       "      <td>12.517778</td>\n",
       "      <td>117</td>\n",
       "    </tr>\n",
       "    <tr>\n",
       "      <th>47</th>\n",
       "      <td>11.928611</td>\n",
       "      <td>115</td>\n",
       "    </tr>\n",
       "    <tr>\n",
       "      <th>48</th>\n",
       "      <td>17.662778</td>\n",
       "      <td>115</td>\n",
       "    </tr>\n",
       "    <tr>\n",
       "      <th>49</th>\n",
       "      <td>26.418056</td>\n",
       "      <td>115</td>\n",
       "    </tr>\n",
       "  </tbody>\n",
       "</table>\n",
       "</div>"
      ],
      "text/plain": [
       "    median_hours_to_review  review_count\n",
       "0                14.470556           461\n",
       "1                 0.092361           450\n",
       "2                11.534167           416\n",
       "3                15.834444           317\n",
       "4                14.165417           312\n",
       "5                 9.161111           257\n",
       "6                12.953333           251\n",
       "7                 2.780556           238\n",
       "8                19.517500           207\n",
       "9                24.237639           204\n",
       "10               22.545278           203\n",
       "11               27.797083           200\n",
       "12               25.161389           199\n",
       "13               17.702500           199\n",
       "14               24.460278           194\n",
       "15               15.424167           180\n",
       "16                3.693611           173\n",
       "17               16.807639           166\n",
       "18               50.726111           165\n",
       "19               21.628750           164\n",
       "20                9.765972           164\n",
       "21                1.534028           160\n",
       "22                1.427361           156\n",
       "23                7.450556           151\n",
       "24               14.091389           151\n",
       "25               16.204722           148\n",
       "26               23.110972           142\n",
       "27               21.661944           141\n",
       "28                9.771389           141\n",
       "29               25.153472           138\n",
       "30               13.452222           137\n",
       "31               13.516667           135\n",
       "32                5.568056           133\n",
       "33               25.215556           131\n",
       "34               19.034861           130\n",
       "35               16.976944           129\n",
       "36                2.418056           129\n",
       "37                4.861944           127\n",
       "38                4.780417           126\n",
       "39               21.112778           125\n",
       "40               15.224167           123\n",
       "41                4.810000           120\n",
       "42               15.263056           120\n",
       "43                0.890278           119\n",
       "44               19.918611           119\n",
       "45               10.012778           117\n",
       "46               12.517778           117\n",
       "47               11.928611           115\n",
       "48               17.662778           115\n",
       "49               26.418056           115"
      ]
     },
     "execution_count": 27,
     "metadata": {},
     "output_type": "execute_result"
    }
   ],
   "source": [
    "hours_to_review = reviews.set_index(\"reviewer\")[\"duration\"].dt.total_seconds() / 3600\n",
    "grouped_reviews = hours_to_review.groupby(\"reviewer\")\n",
    "reviewer_stats = pd.DataFrame({\"median_hours_to_review\": grouped_reviews.median(), \"review_count\": grouped_reviews.size()})\n",
    "reviewer_stats.sort_values(\"review_count\", ascending=False).head(50).reset_index(drop=True)"
   ]
  }
 ],
 "metadata": {
  "kernelspec": {
   "display_name": "Python 3",
   "language": "python",
   "name": "python3"
  },
  "language_info": {
   "codemirror_mode": {
    "name": "ipython",
    "version": 3
   },
   "file_extension": ".py",
   "mimetype": "text/x-python",
   "name": "python",
   "nbconvert_exporter": "python",
   "pygments_lexer": "ipython3",
   "version": "3.6.5"
  }
 },
 "nbformat": 4,
 "nbformat_minor": 2
}
