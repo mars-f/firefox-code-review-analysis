{
 "cells": [
  {
   "cell_type": "markdown",
   "metadata": {},
   "source": [
    "# Phabricator code reviewers\n",
    "\n",
    "Trends and statistics for Firefox code reviews using the Phabricator code review system."
   ]
  },
  {
   "cell_type": "code",
   "execution_count": 1,
   "metadata": {},
   "outputs": [],
   "source": [
    "import pandas as pd\n",
    "from pathlib import Path\n",
    "import seaborn as sns\n",
    "\n",
    "sns.set_style(\"dark\")"
   ]
  },
  {
   "cell_type": "markdown",
   "metadata": {},
   "source": [
    "Our dataset is the list of transactions that took place on each phabricator revision of the Firefox repository. "
   ]
  },
  {
   "cell_type": "code",
   "execution_count": 2,
   "metadata": {},
   "outputs": [],
   "source": [
    "datapath = Path.cwd() / \"..\" / \"data\" / \"processed\"\n",
    "df = pd.read_parquet(str(datapath / \"transactions.parq\"))\n",
    "users_df = pd.read_parquet(str(datapath / \"users.parq\"))"
   ]
  },
  {
   "cell_type": "markdown",
   "metadata": {},
   "source": [
    "Make our columns a bit easier to understand."
   ]
  },
  {
   "cell_type": "code",
   "execution_count": 3,
   "metadata": {},
   "outputs": [
    {
     "data": {
      "text/html": [
       "<div>\n",
       "<style scoped>\n",
       "    .dataframe tbody tr th:only-of-type {\n",
       "        vertical-align: middle;\n",
       "    }\n",
       "\n",
       "    .dataframe tbody tr th {\n",
       "        vertical-align: top;\n",
       "    }\n",
       "\n",
       "    .dataframe thead th {\n",
       "        text-align: right;\n",
       "    }\n",
       "</style>\n",
       "<table border=\"1\" class=\"dataframe\">\n",
       "  <thead>\n",
       "    <tr style=\"text-align: right;\">\n",
       "      <th></th>\n",
       "      <th>authorPHID</th>\n",
       "      <th>dateCreated</th>\n",
       "      <th>id</th>\n",
       "      <th>revision</th>\n",
       "      <th>phid</th>\n",
       "      <th>type</th>\n",
       "    </tr>\n",
       "  </thead>\n",
       "  <tbody>\n",
       "    <tr>\n",
       "      <th>0</th>\n",
       "      <td>PHID-USER-ub7ohlqtjctu4ofsjlb7</td>\n",
       "      <td>2019-03-01 22:47:31+00:00</td>\n",
       "      <td>590402</td>\n",
       "      <td>PHID-DREV-yjkuqidctymrqsf67qti</td>\n",
       "      <td>PHID-XACT-DREV-dpkknewlyadjckr</td>\n",
       "      <td>None</td>\n",
       "    </tr>\n",
       "    <tr>\n",
       "      <th>1</th>\n",
       "      <td>PHID-USER-ub7ohlqtjctu4ofsjlb7</td>\n",
       "      <td>2019-03-01 22:47:31+00:00</td>\n",
       "      <td>590401</td>\n",
       "      <td>PHID-DREV-yjkuqidctymrqsf67qti</td>\n",
       "      <td>PHID-XACT-DREV-u3zo3by6oj6ce7x</td>\n",
       "      <td>request-review</td>\n",
       "    </tr>\n",
       "    <tr>\n",
       "      <th>2</th>\n",
       "      <td>PHID-USER-ub7ohlqtjctu4ofsjlb7</td>\n",
       "      <td>2019-03-01 22:47:31+00:00</td>\n",
       "      <td>590400</td>\n",
       "      <td>PHID-DREV-yjkuqidctymrqsf67qti</td>\n",
       "      <td>PHID-XACT-DREV-px36rsivjw4l2yu</td>\n",
       "      <td>None</td>\n",
       "    </tr>\n",
       "    <tr>\n",
       "      <th>3</th>\n",
       "      <td>PHID-USER-ub7ohlqtjctu4ofsjlb7</td>\n",
       "      <td>2019-03-01 22:47:31+00:00</td>\n",
       "      <td>590399</td>\n",
       "      <td>PHID-DREV-yjkuqidctymrqsf67qti</td>\n",
       "      <td>PHID-XACT-DREV-jw4szqablalol4w</td>\n",
       "      <td>None</td>\n",
       "    </tr>\n",
       "    <tr>\n",
       "      <th>4</th>\n",
       "      <td>PHID-APPS-PhabricatorHarbormasterApplication</td>\n",
       "      <td>2019-03-01 22:47:28+00:00</td>\n",
       "      <td>590398</td>\n",
       "      <td>PHID-DREV-yjkuqidctymrqsf67qti</td>\n",
       "      <td>PHID-XACT-DREV-5kafddkpljiwezy</td>\n",
       "      <td>None</td>\n",
       "    </tr>\n",
       "  </tbody>\n",
       "</table>\n",
       "</div>"
      ],
      "text/plain": [
       "                                     authorPHID               dateCreated  \\\n",
       "0                PHID-USER-ub7ohlqtjctu4ofsjlb7 2019-03-01 22:47:31+00:00   \n",
       "1                PHID-USER-ub7ohlqtjctu4ofsjlb7 2019-03-01 22:47:31+00:00   \n",
       "2                PHID-USER-ub7ohlqtjctu4ofsjlb7 2019-03-01 22:47:31+00:00   \n",
       "3                PHID-USER-ub7ohlqtjctu4ofsjlb7 2019-03-01 22:47:31+00:00   \n",
       "4  PHID-APPS-PhabricatorHarbormasterApplication 2019-03-01 22:47:28+00:00   \n",
       "\n",
       "       id                        revision                            phid  \\\n",
       "0  590402  PHID-DREV-yjkuqidctymrqsf67qti  PHID-XACT-DREV-dpkknewlyadjckr   \n",
       "1  590401  PHID-DREV-yjkuqidctymrqsf67qti  PHID-XACT-DREV-u3zo3by6oj6ce7x   \n",
       "2  590400  PHID-DREV-yjkuqidctymrqsf67qti  PHID-XACT-DREV-px36rsivjw4l2yu   \n",
       "3  590399  PHID-DREV-yjkuqidctymrqsf67qti  PHID-XACT-DREV-jw4szqablalol4w   \n",
       "4  590398  PHID-DREV-yjkuqidctymrqsf67qti  PHID-XACT-DREV-5kafddkpljiwezy   \n",
       "\n",
       "             type  \n",
       "0            None  \n",
       "1  request-review  \n",
       "2            None  \n",
       "3            None  \n",
       "4            None  "
      ]
     },
     "execution_count": 3,
     "metadata": {},
     "output_type": "execute_result"
    }
   ],
   "source": [
    "df = df.rename(columns={\"objectPHID\": \"revision\"})\n",
    "df = df.drop(columns=\"dateModified\")\n",
    "df.head()"
   ]
  },
  {
   "cell_type": "markdown",
   "metadata": {},
   "source": [
    "Extract the list of revision IDs."
   ]
  },
  {
   "cell_type": "code",
   "execution_count": 4,
   "metadata": {},
   "outputs": [
    {
     "data": {
      "text/plain": [
       "revision    18615\n",
       "dtype: int64"
      ]
     },
     "execution_count": 4,
     "metadata": {},
     "output_type": "execute_result"
    }
   ],
   "source": [
    "revisions = pd.DataFrame({\"revision\": df[\"revision\"].unique()})\n",
    "revisions.count()"
   ]
  },
  {
   "cell_type": "markdown",
   "metadata": {},
   "source": [
    "Extract the transactions that open and close transactions."
   ]
  },
  {
   "cell_type": "code",
   "execution_count": 5,
   "metadata": {},
   "outputs": [
    {
     "name": "stdout",
     "output_type": "stream",
     "text": [
      "Revisions opened over this time period: 18440\n",
      "Revisions closed over this time period: 16911\n"
     ]
    }
   ],
   "source": [
    "opens = df[df[\"type\"] == \"create\"][[\"revision\", \"dateCreated\"]]\n",
    "print(\"Revisions opened over this time period:\", len(opens))\n",
    "\n",
    "closes = df[df[\"type\"] == \"close\"][[\"revision\", \"dateCreated\"]]\n",
    "print(\"Revisions closed over this time period:\", len(closes))"
   ]
  },
  {
   "cell_type": "markdown",
   "metadata": {},
   "source": [
    "Combine the transactions into single rows per revision."
   ]
  },
  {
   "cell_type": "code",
   "execution_count": 6,
   "metadata": {},
   "outputs": [
    {
     "data": {
      "text/html": [
       "<div>\n",
       "<style scoped>\n",
       "    .dataframe tbody tr th:only-of-type {\n",
       "        vertical-align: middle;\n",
       "    }\n",
       "\n",
       "    .dataframe tbody tr th {\n",
       "        vertical-align: top;\n",
       "    }\n",
       "\n",
       "    .dataframe thead th {\n",
       "        text-align: right;\n",
       "    }\n",
       "</style>\n",
       "<table border=\"1\" class=\"dataframe\">\n",
       "  <thead>\n",
       "    <tr style=\"text-align: right;\">\n",
       "      <th></th>\n",
       "      <th>revision</th>\n",
       "      <th>dateCreated</th>\n",
       "      <th>dateClosed</th>\n",
       "    </tr>\n",
       "  </thead>\n",
       "  <tbody>\n",
       "    <tr>\n",
       "      <th>0</th>\n",
       "      <td>PHID-DREV-yahzokyr7tkcvhwj474z</td>\n",
       "      <td>2019-03-01 21:54:35+00:00</td>\n",
       "      <td>2019-03-01 22:21:27+00:00</td>\n",
       "    </tr>\n",
       "    <tr>\n",
       "      <th>1</th>\n",
       "      <td>PHID-DREV-fcxw6dsmjal2pcsa2nah</td>\n",
       "      <td>2019-03-01 21:49:37+00:00</td>\n",
       "      <td>2019-03-01 22:42:21+00:00</td>\n",
       "    </tr>\n",
       "    <tr>\n",
       "      <th>2</th>\n",
       "      <td>PHID-DREV-yryfacddugemwa6q27em</td>\n",
       "      <td>2019-03-01 21:38:29+00:00</td>\n",
       "      <td>2019-03-01 22:45:09+00:00</td>\n",
       "    </tr>\n",
       "    <tr>\n",
       "      <th>3</th>\n",
       "      <td>PHID-DREV-iwhcyvnsivefjxlnihf4</td>\n",
       "      <td>2019-03-01 20:28:55+00:00</td>\n",
       "      <td>2019-03-01 20:49:32+00:00</td>\n",
       "    </tr>\n",
       "    <tr>\n",
       "      <th>4</th>\n",
       "      <td>PHID-DREV-mqoe24ljnfgp65x3mmpf</td>\n",
       "      <td>2019-03-01 20:01:28+00:00</td>\n",
       "      <td>2019-03-01 21:10:12+00:00</td>\n",
       "    </tr>\n",
       "  </tbody>\n",
       "</table>\n",
       "</div>"
      ],
      "text/plain": [
       "                         revision               dateCreated  \\\n",
       "0  PHID-DREV-yahzokyr7tkcvhwj474z 2019-03-01 21:54:35+00:00   \n",
       "1  PHID-DREV-fcxw6dsmjal2pcsa2nah 2019-03-01 21:49:37+00:00   \n",
       "2  PHID-DREV-yryfacddugemwa6q27em 2019-03-01 21:38:29+00:00   \n",
       "3  PHID-DREV-iwhcyvnsivefjxlnihf4 2019-03-01 20:28:55+00:00   \n",
       "4  PHID-DREV-mqoe24ljnfgp65x3mmpf 2019-03-01 20:01:28+00:00   \n",
       "\n",
       "                 dateClosed  \n",
       "0 2019-03-01 22:21:27+00:00  \n",
       "1 2019-03-01 22:42:21+00:00  \n",
       "2 2019-03-01 22:45:09+00:00  \n",
       "3 2019-03-01 20:49:32+00:00  \n",
       "4 2019-03-01 21:10:12+00:00  "
      ]
     },
     "execution_count": 6,
     "metadata": {},
     "output_type": "execute_result"
    }
   ],
   "source": [
    "revisions = pd.merge(revisions, opens, on=\"revision\")\n",
    "\n",
    "# Change the column name so it makes sense in the merged dataframe\n",
    "closes = closes.rename(columns={\"dateCreated\": \"dateClosed\"})\n",
    "revisions = pd.merge(revisions, closes, on=\"revision\")\n",
    "revisions.head()"
   ]
  },
  {
   "cell_type": "markdown",
   "metadata": {},
   "source": [
    "## How many reviews are performed per-reviewer?"
   ]
  },
  {
   "cell_type": "markdown",
   "metadata": {},
   "source": [
    "How many reviewers accepted revisions?"
   ]
  },
  {
   "cell_type": "code",
   "execution_count": 7,
   "metadata": {},
   "outputs": [
    {
     "data": {
      "text/plain": [
       "345"
      ]
     },
     "execution_count": 7,
     "metadata": {},
     "output_type": "execute_result"
    }
   ],
   "source": [
    "reviews = df[df[\"type\"] == \"accept\"][[\"revision\", \"authorPHID\", \"dateCreated\"]]\n",
    "reviews = reviews.rename(columns={\n",
    "    \"authorPHID\": \"reviewer\",\n",
    "    \"dateCreate\": \"dateReviewed\",\n",
    "})\n",
    "reviews[\"reviewer\"].nunique()"
   ]
  },
  {
   "cell_type": "code",
   "execution_count": 8,
   "metadata": {},
   "outputs": [],
   "source": [
    "byreviewer = reviews.groupby(\"reviewer\")"
   ]
  },
  {
   "cell_type": "code",
   "execution_count": 9,
   "metadata": {},
   "outputs": [],
   "source": [
    "review_count_by_reviewer = byreviewer.size()"
   ]
  },
  {
   "cell_type": "markdown",
   "metadata": {},
   "source": [
    "Are there any reviewers that look to be helper bots because of an abnormal number of reviews?"
   ]
  },
  {
   "cell_type": "code",
   "execution_count": 10,
   "metadata": {},
   "outputs": [
    {
     "data": {
      "text/plain": [
       "reviewer\n",
       "PHID-USER-mwithgebwtz2ytyehnps    486\n",
       "PHID-USER-7hxjutcooeszod3rg3dr    473\n",
       "PHID-USER-7kwqcpqrdv7xuk47hcvc    365\n",
       "PHID-USER-ppexvnh4ahku2ypgjpmd    341\n",
       "PHID-USER-zp4gy3jjzfehipsktf6x    286\n",
       "dtype: int64"
      ]
     },
     "execution_count": 10,
     "metadata": {},
     "output_type": "execute_result"
    }
   ],
   "source": [
    "review_count_by_reviewer.nlargest()"
   ]
  },
  {
   "cell_type": "markdown",
   "metadata": {},
   "source": [
    "The number of reviews per-reviewer slopes down gradually and the largest number of reviews is only a fraction of the total reviews so they are probably all real users."
   ]
  },
  {
   "cell_type": "markdown",
   "metadata": {},
   "source": [
    "What does the distribution of the number of reviews performed across all reviewers look like?"
   ]
  },
  {
   "cell_type": "code",
   "execution_count": 11,
   "metadata": {},
   "outputs": [
    {
     "data": {
      "image/png": "[encoded data removed]",
      "text/plain": [
       "<Figure size 432x288 with 1 Axes>"
      ]
     },
     "metadata": {
      "needs_background": "light"
     },
     "output_type": "display_data"
    }
   ],
   "source": [
    "ax = review_count_by_reviewer.sort_values(ascending=False).plot()\n",
    "ax.get_xaxis().set_visible(False)"
   ]
  },
  {
   "cell_type": "code",
   "execution_count": 12,
   "metadata": {},
   "outputs": [
    {
     "data": {
      "text/plain": [
       "count    345.00000\n",
       "mean      53.37971\n",
       "std       72.40630\n",
       "min        1.00000\n",
       "25%        6.00000\n",
       "50%       22.00000\n",
       "75%       75.00000\n",
       "max      486.00000\n",
       "dtype: float64"
      ]
     },
     "execution_count": 12,
     "metadata": {},
     "output_type": "execute_result"
    }
   ],
   "source": [
    "review_count_by_reviewer.describe()"
   ]
  },
  {
   "cell_type": "markdown",
   "metadata": {},
   "source": [
    "## What is the median time for a reviewer to first review code?"
   ]
  },
  {
   "cell_type": "markdown",
   "metadata": {},
   "source": [
    "What kinds of transactions do we have to consider?"
   ]
  },
  {
   "cell_type": "code",
   "execution_count": 13,
   "metadata": {},
   "outputs": [
    {
     "data": {
      "text/plain": [
       "update             59747\n",
       "inline             43072\n",
       "comment            40523\n",
       "status             23033\n",
       "title              21010\n",
       "create             18440\n",
       "accept             18416\n",
       "request-review     18350\n",
       "close              16911\n",
       "request-changes     3982\n",
       "abandon             2015\n",
       "reopen              1877\n",
       "plan-changes         430\n",
       "resign               315\n",
       "commandeer           259\n",
       "reclaim               38\n",
       "Name: type, dtype: int64"
      ]
     },
     "execution_count": 13,
     "metadata": {},
     "output_type": "execute_result"
    }
   ],
   "source": [
    "df[\"type\"].value_counts()"
   ]
  },
  {
   "cell_type": "markdown",
   "metadata": {},
   "source": [
    "Find the transactions where a reviewer interacted with a code review."
   ]
  },
  {
   "cell_type": "code",
   "execution_count": 14,
   "metadata": {},
   "outputs": [
    {
     "data": {
      "text/html": [
       "<div>\n",
       "<style scoped>\n",
       "    .dataframe tbody tr th:only-of-type {\n",
       "        vertical-align: middle;\n",
       "    }\n",
       "\n",
       "    .dataframe tbody tr th {\n",
       "        vertical-align: top;\n",
       "    }\n",
       "\n",
       "    .dataframe thead th {\n",
       "        text-align: right;\n",
       "    }\n",
       "</style>\n",
       "<table border=\"1\" class=\"dataframe\">\n",
       "  <thead>\n",
       "    <tr style=\"text-align: right;\">\n",
       "      <th></th>\n",
       "      <th>reviewer</th>\n",
       "      <th>dateReviewed</th>\n",
       "      <th>id</th>\n",
       "      <th>revision</th>\n",
       "      <th>type</th>\n",
       "    </tr>\n",
       "  </thead>\n",
       "  <tbody>\n",
       "    <tr>\n",
       "      <th>24</th>\n",
       "      <td>PHID-USER-jnyoif5j4wqdxylynukq</td>\n",
       "      <td>2019-03-01 22:43:05+00:00</td>\n",
       "      <td>590379</td>\n",
       "      <td>PHID-DREV-6uv2hnjhp5kokw63pi3u</td>\n",
       "      <td>accept</td>\n",
       "    </tr>\n",
       "    <tr>\n",
       "      <th>110</th>\n",
       "      <td>PHID-USER-zjksdoou7zanosl7263u</td>\n",
       "      <td>2019-03-01 21:56:15+00:00</td>\n",
       "      <td>590189</td>\n",
       "      <td>PHID-DREV-yahzokyr7tkcvhwj474z</td>\n",
       "      <td>accept</td>\n",
       "    </tr>\n",
       "    <tr>\n",
       "      <th>127</th>\n",
       "      <td>PHID-USER-kde347py6oyfipxxdf7o</td>\n",
       "      <td>2019-03-01 22:17:59+00:00</td>\n",
       "      <td>590274</td>\n",
       "      <td>PHID-DREV-fcxw6dsmjal2pcsa2nah</td>\n",
       "      <td>accept</td>\n",
       "    </tr>\n",
       "    <tr>\n",
       "      <th>146</th>\n",
       "      <td>PHID-USER-dy4zkt27g2wyaqmdj4yb</td>\n",
       "      <td>2019-03-01 22:13:15+00:00</td>\n",
       "      <td>590268</td>\n",
       "      <td>PHID-DREV-yryfacddugemwa6q27em</td>\n",
       "      <td>accept</td>\n",
       "    </tr>\n",
       "    <tr>\n",
       "      <th>186</th>\n",
       "      <td>PHID-USER-hkitahbkppitqpq54yj3</td>\n",
       "      <td>2019-03-01 21:53:55+00:00</td>\n",
       "      <td>590148</td>\n",
       "      <td>PHID-DREV-mklrrpygu57j3vkc5nmg</td>\n",
       "      <td>accept</td>\n",
       "    </tr>\n",
       "  </tbody>\n",
       "</table>\n",
       "</div>"
      ],
      "text/plain": [
       "                           reviewer              dateReviewed      id  \\\n",
       "24   PHID-USER-jnyoif5j4wqdxylynukq 2019-03-01 22:43:05+00:00  590379   \n",
       "110  PHID-USER-zjksdoou7zanosl7263u 2019-03-01 21:56:15+00:00  590189   \n",
       "127  PHID-USER-kde347py6oyfipxxdf7o 2019-03-01 22:17:59+00:00  590274   \n",
       "146  PHID-USER-dy4zkt27g2wyaqmdj4yb 2019-03-01 22:13:15+00:00  590268   \n",
       "186  PHID-USER-hkitahbkppitqpq54yj3 2019-03-01 21:53:55+00:00  590148   \n",
       "\n",
       "                           revision    type  \n",
       "24   PHID-DREV-6uv2hnjhp5kokw63pi3u  accept  \n",
       "110  PHID-DREV-yahzokyr7tkcvhwj474z  accept  \n",
       "127  PHID-DREV-fcxw6dsmjal2pcsa2nah  accept  \n",
       "146  PHID-DREV-yryfacddugemwa6q27em  accept  \n",
       "186  PHID-DREV-mklrrpygu57j3vkc5nmg  accept  "
      ]
     },
     "execution_count": 14,
     "metadata": {},
     "output_type": "execute_result"
    }
   ],
   "source": [
    "interaction_types = (\"accept\", \"request-changes\", \"resign\")\n",
    "interactions = df[df[\"type\"].isin(interaction_types)]\n",
    "interactions = interactions.rename(\n",
    "    columns={\n",
    "        \"authorPHID\": \"reviewer\",\n",
    "        \"dateCreated\": \"dateReviewed\",\n",
    "    }\n",
    ")\n",
    "interactions = interactions.drop(columns=[\"phid\"])\n",
    "interactions.head()"
   ]
  },
  {
   "cell_type": "code",
   "execution_count": 15,
   "metadata": {},
   "outputs": [
    {
     "name": "stdout",
     "output_type": "stream",
     "text": [
      "Total times reviewers interacted with code reviews: 22713\n"
     ]
    }
   ],
   "source": [
    "print(\"Total times reviewers interacted with code reviews:\", len(interactions))"
   ]
  },
  {
   "cell_type": "markdown",
   "metadata": {},
   "source": [
    "We only want to measure the time a review spent in the \"Needs Review\" state.  That state could be interrupted by (potentially long) periods of the review sitting in the \"Planned Changes\" state.  To simplify the calculation of the time spent waiting for review we can exlude all reviews that spent time in \"Planned Changes\"."
   ]
  },
  {
   "cell_type": "code",
   "execution_count": 16,
   "metadata": {},
   "outputs": [
    {
     "name": "stdout",
     "output_type": "stream",
     "text": [
      "Reviews with changes planned: 350\n"
     ]
    }
   ],
   "source": [
    "changes_planned = df[df[\"type\"] == \"plan-changes\"]\n",
    "print(\"Reviews with changes planned:\", changes_planned[\"revision\"].nunique())"
   ]
  },
  {
   "cell_type": "code",
   "execution_count": 17,
   "metadata": {},
   "outputs": [],
   "source": [
    "changes_planned_rev_array = changes_planned[\"revision\"].unique()"
   ]
  },
  {
   "cell_type": "markdown",
   "metadata": {},
   "source": [
    "Dump the \"Planned Changes\" transactions."
   ]
  },
  {
   "cell_type": "code",
   "execution_count": 18,
   "metadata": {},
   "outputs": [],
   "source": [
    "interactions = interactions.set_index(\"revision\").drop(changes_planned_rev_array, errors=\"ignore\")"
   ]
  },
  {
   "cell_type": "markdown",
   "metadata": {},
   "source": [
    "Sort all of the interactions by date.  Then Group all interactions by reviewer and then by revision, creating (reviewer, revision) pairs for each interaction."
   ]
  },
  {
   "cell_type": "code",
   "execution_count": 19,
   "metadata": {},
   "outputs": [],
   "source": [
    "grouped_interactions = interactions.sort_values(by=\"dateReviewed\").groupby([\"reviewer\", \"revision\"], sort=False)"
   ]
  },
  {
   "cell_type": "code",
   "execution_count": 20,
   "metadata": {},
   "outputs": [
    {
     "data": {
      "text/html": [
       "<div>\n",
       "<style scoped>\n",
       "    .dataframe tbody tr th:only-of-type {\n",
       "        vertical-align: middle;\n",
       "    }\n",
       "\n",
       "    .dataframe tbody tr th {\n",
       "        vertical-align: top;\n",
       "    }\n",
       "\n",
       "    .dataframe thead th {\n",
       "        text-align: right;\n",
       "    }\n",
       "</style>\n",
       "<table border=\"1\" class=\"dataframe\">\n",
       "  <thead>\n",
       "    <tr style=\"text-align: right;\">\n",
       "      <th></th>\n",
       "      <th>reviewer</th>\n",
       "      <th>dateReviewed</th>\n",
       "      <th>id</th>\n",
       "      <th>type</th>\n",
       "    </tr>\n",
       "    <tr>\n",
       "      <th>revision</th>\n",
       "      <th></th>\n",
       "      <th></th>\n",
       "      <th></th>\n",
       "      <th></th>\n",
       "    </tr>\n",
       "  </thead>\n",
       "  <tbody>\n",
       "    <tr>\n",
       "      <th>PHID-DREV-jqheldrf42ofmcyifequ</th>\n",
       "      <td>PHID-USER-goay3vnqs5ldxywsyhgx</td>\n",
       "      <td>2017-09-19 08:36:30+00:00</td>\n",
       "      <td>1259</td>\n",
       "      <td>accept</td>\n",
       "    </tr>\n",
       "    <tr>\n",
       "      <th>PHID-DREV-nzvfd4l56oze55mp6xxb</th>\n",
       "      <td>PHID-USER-l4frlm5ami3cecyifazx</td>\n",
       "      <td>2017-10-03 21:01:26+00:00</td>\n",
       "      <td>1976</td>\n",
       "      <td>accept</td>\n",
       "    </tr>\n",
       "    <tr>\n",
       "      <th>PHID-DREV-nzvfd4l56oze55mp6xxb</th>\n",
       "      <td>PHID-USER-l4frlm5ami3cecyifazx</td>\n",
       "      <td>2017-10-04 20:34:08+00:00</td>\n",
       "      <td>2092</td>\n",
       "      <td>accept</td>\n",
       "    </tr>\n",
       "    <tr>\n",
       "      <th>PHID-DREV-7nzb74ztgndxfaixdal6</th>\n",
       "      <td>PHID-USER-yeffbpgn7yuxf5lcd3pe</td>\n",
       "      <td>2017-10-10 20:16:29+00:00</td>\n",
       "      <td>2424</td>\n",
       "      <td>accept</td>\n",
       "    </tr>\n",
       "    <tr>\n",
       "      <th>PHID-DREV-45rk7gdsel2xfflh6hys</th>\n",
       "      <td>PHID-USER-ciaomkrkqpbwfmdqahdu</td>\n",
       "      <td>2017-10-11 07:37:59+00:00</td>\n",
       "      <td>2470</td>\n",
       "      <td>accept</td>\n",
       "    </tr>\n",
       "  </tbody>\n",
       "</table>\n",
       "</div>"
      ],
      "text/plain": [
       "                                                      reviewer  \\\n",
       "revision                                                         \n",
       "PHID-DREV-jqheldrf42ofmcyifequ  PHID-USER-goay3vnqs5ldxywsyhgx   \n",
       "PHID-DREV-nzvfd4l56oze55mp6xxb  PHID-USER-l4frlm5ami3cecyifazx   \n",
       "PHID-DREV-nzvfd4l56oze55mp6xxb  PHID-USER-l4frlm5ami3cecyifazx   \n",
       "PHID-DREV-7nzb74ztgndxfaixdal6  PHID-USER-yeffbpgn7yuxf5lcd3pe   \n",
       "PHID-DREV-45rk7gdsel2xfflh6hys  PHID-USER-ciaomkrkqpbwfmdqahdu   \n",
       "\n",
       "                                            dateReviewed    id    type  \n",
       "revision                                                                \n",
       "PHID-DREV-jqheldrf42ofmcyifequ 2017-09-19 08:36:30+00:00  1259  accept  \n",
       "PHID-DREV-nzvfd4l56oze55mp6xxb 2017-10-03 21:01:26+00:00  1976  accept  \n",
       "PHID-DREV-nzvfd4l56oze55mp6xxb 2017-10-04 20:34:08+00:00  2092  accept  \n",
       "PHID-DREV-7nzb74ztgndxfaixdal6 2017-10-10 20:16:29+00:00  2424  accept  \n",
       "PHID-DREV-45rk7gdsel2xfflh6hys 2017-10-11 07:37:59+00:00  2470  accept  "
      ]
     },
     "execution_count": 20,
     "metadata": {},
     "output_type": "execute_result"
    }
   ],
   "source": [
    "grouped_interactions.head().head()"
   ]
  },
  {
   "cell_type": "markdown",
   "metadata": {},
   "source": [
    "We can verify that we have all of the interactions a reviewer had with a review grouped and sorted by interaction date."
   ]
  },
  {
   "cell_type": "code",
   "execution_count": 21,
   "metadata": {},
   "outputs": [
    {
     "data": {
      "text/html": [
       "<div>\n",
       "<style scoped>\n",
       "    .dataframe tbody tr th:only-of-type {\n",
       "        vertical-align: middle;\n",
       "    }\n",
       "\n",
       "    .dataframe tbody tr th {\n",
       "        vertical-align: top;\n",
       "    }\n",
       "\n",
       "    .dataframe thead th {\n",
       "        text-align: right;\n",
       "    }\n",
       "</style>\n",
       "<table border=\"1\" class=\"dataframe\">\n",
       "  <thead>\n",
       "    <tr style=\"text-align: right;\">\n",
       "      <th></th>\n",
       "      <th>reviewer</th>\n",
       "      <th>dateReviewed</th>\n",
       "      <th>id</th>\n",
       "      <th>type</th>\n",
       "    </tr>\n",
       "    <tr>\n",
       "      <th>revision</th>\n",
       "      <th></th>\n",
       "      <th></th>\n",
       "      <th></th>\n",
       "      <th></th>\n",
       "    </tr>\n",
       "  </thead>\n",
       "  <tbody>\n",
       "    <tr>\n",
       "      <th>PHID-DREV-6f2j4scabjtbmgrpdikq</th>\n",
       "      <td>PHID-USER-bc7buyjofiulmsokmvj3</td>\n",
       "      <td>2017-10-17 18:32:14+00:00</td>\n",
       "      <td>2984</td>\n",
       "      <td>request-changes</td>\n",
       "    </tr>\n",
       "    <tr>\n",
       "      <th>PHID-DREV-6f2j4scabjtbmgrpdikq</th>\n",
       "      <td>PHID-USER-bc7buyjofiulmsokmvj3</td>\n",
       "      <td>2017-10-17 18:41:54+00:00</td>\n",
       "      <td>2989</td>\n",
       "      <td>accept</td>\n",
       "    </tr>\n",
       "    <tr>\n",
       "      <th>PHID-DREV-6f2j4scabjtbmgrpdikq</th>\n",
       "      <td>PHID-USER-bc7buyjofiulmsokmvj3</td>\n",
       "      <td>2017-10-18 13:59:17+00:00</td>\n",
       "      <td>3120</td>\n",
       "      <td>accept</td>\n",
       "    </tr>\n",
       "  </tbody>\n",
       "</table>\n",
       "</div>"
      ],
      "text/plain": [
       "                                                      reviewer  \\\n",
       "revision                                                         \n",
       "PHID-DREV-6f2j4scabjtbmgrpdikq  PHID-USER-bc7buyjofiulmsokmvj3   \n",
       "PHID-DREV-6f2j4scabjtbmgrpdikq  PHID-USER-bc7buyjofiulmsokmvj3   \n",
       "PHID-DREV-6f2j4scabjtbmgrpdikq  PHID-USER-bc7buyjofiulmsokmvj3   \n",
       "\n",
       "                                            dateReviewed    id  \\\n",
       "revision                                                         \n",
       "PHID-DREV-6f2j4scabjtbmgrpdikq 2017-10-17 18:32:14+00:00  2984   \n",
       "PHID-DREV-6f2j4scabjtbmgrpdikq 2017-10-17 18:41:54+00:00  2989   \n",
       "PHID-DREV-6f2j4scabjtbmgrpdikq 2017-10-18 13:59:17+00:00  3120   \n",
       "\n",
       "                                           type  \n",
       "revision                                         \n",
       "PHID-DREV-6f2j4scabjtbmgrpdikq  request-changes  \n",
       "PHID-DREV-6f2j4scabjtbmgrpdikq           accept  \n",
       "PHID-DREV-6f2j4scabjtbmgrpdikq           accept  "
      ]
     },
     "execution_count": 21,
     "metadata": {},
     "output_type": "execute_result"
    }
   ],
   "source": [
    "grouped_interactions.get_group((\"PHID-USER-bc7buyjofiulmsokmvj3\", \"PHID-DREV-6f2j4scabjtbmgrpdikq\"))"
   ]
  },
  {
   "cell_type": "markdown",
   "metadata": {},
   "source": [
    "Keep just the first interaction from each (reviewer, review) interaction pair, which corresponds to the first time the reviewer X worked with revision Y."
   ]
  },
  {
   "cell_type": "code",
   "execution_count": 22,
   "metadata": {},
   "outputs": [
    {
     "data": {
      "text/html": [
       "<div>\n",
       "<style scoped>\n",
       "    .dataframe tbody tr th:only-of-type {\n",
       "        vertical-align: middle;\n",
       "    }\n",
       "\n",
       "    .dataframe tbody tr th {\n",
       "        vertical-align: top;\n",
       "    }\n",
       "\n",
       "    .dataframe thead th {\n",
       "        text-align: right;\n",
       "    }\n",
       "</style>\n",
       "<table border=\"1\" class=\"dataframe\">\n",
       "  <thead>\n",
       "    <tr style=\"text-align: right;\">\n",
       "      <th></th>\n",
       "      <th></th>\n",
       "      <th>dateReviewed</th>\n",
       "      <th>id</th>\n",
       "      <th>type</th>\n",
       "    </tr>\n",
       "    <tr>\n",
       "      <th>reviewer</th>\n",
       "      <th>revision</th>\n",
       "      <th></th>\n",
       "      <th></th>\n",
       "      <th></th>\n",
       "    </tr>\n",
       "  </thead>\n",
       "  <tbody>\n",
       "    <tr>\n",
       "      <th>PHID-USER-goay3vnqs5ldxywsyhgx</th>\n",
       "      <th>PHID-DREV-jqheldrf42ofmcyifequ</th>\n",
       "      <td>2017-09-19 08:36:30+00:00</td>\n",
       "      <td>1259</td>\n",
       "      <td>accept</td>\n",
       "    </tr>\n",
       "    <tr>\n",
       "      <th>PHID-USER-l4frlm5ami3cecyifazx</th>\n",
       "      <th>PHID-DREV-nzvfd4l56oze55mp6xxb</th>\n",
       "      <td>2017-10-03 21:01:26+00:00</td>\n",
       "      <td>1976</td>\n",
       "      <td>accept</td>\n",
       "    </tr>\n",
       "    <tr>\n",
       "      <th>PHID-USER-yeffbpgn7yuxf5lcd3pe</th>\n",
       "      <th>PHID-DREV-7nzb74ztgndxfaixdal6</th>\n",
       "      <td>2017-10-10 20:16:29+00:00</td>\n",
       "      <td>2424</td>\n",
       "      <td>accept</td>\n",
       "    </tr>\n",
       "    <tr>\n",
       "      <th>PHID-USER-ciaomkrkqpbwfmdqahdu</th>\n",
       "      <th>PHID-DREV-45rk7gdsel2xfflh6hys</th>\n",
       "      <td>2017-10-11 07:37:59+00:00</td>\n",
       "      <td>2470</td>\n",
       "      <td>accept</td>\n",
       "    </tr>\n",
       "    <tr>\n",
       "      <th>PHID-USER-ppexvnh4ahku2ypgjpmd</th>\n",
       "      <th>PHID-DREV-qo6b3j3wrruxlqsmusyk</th>\n",
       "      <td>2017-10-11 08:15:41+00:00</td>\n",
       "      <td>2474</td>\n",
       "      <td>accept</td>\n",
       "    </tr>\n",
       "  </tbody>\n",
       "</table>\n",
       "</div>"
      ],
      "text/plain": [
       "                                                                           dateReviewed  \\\n",
       "reviewer                       revision                                                   \n",
       "PHID-USER-goay3vnqs5ldxywsyhgx PHID-DREV-jqheldrf42ofmcyifequ 2017-09-19 08:36:30+00:00   \n",
       "PHID-USER-l4frlm5ami3cecyifazx PHID-DREV-nzvfd4l56oze55mp6xxb 2017-10-03 21:01:26+00:00   \n",
       "PHID-USER-yeffbpgn7yuxf5lcd3pe PHID-DREV-7nzb74ztgndxfaixdal6 2017-10-10 20:16:29+00:00   \n",
       "PHID-USER-ciaomkrkqpbwfmdqahdu PHID-DREV-45rk7gdsel2xfflh6hys 2017-10-11 07:37:59+00:00   \n",
       "PHID-USER-ppexvnh4ahku2ypgjpmd PHID-DREV-qo6b3j3wrruxlqsmusyk 2017-10-11 08:15:41+00:00   \n",
       "\n",
       "                                                                 id    type  \n",
       "reviewer                       revision                                      \n",
       "PHID-USER-goay3vnqs5ldxywsyhgx PHID-DREV-jqheldrf42ofmcyifequ  1259  accept  \n",
       "PHID-USER-l4frlm5ami3cecyifazx PHID-DREV-nzvfd4l56oze55mp6xxb  1976  accept  \n",
       "PHID-USER-yeffbpgn7yuxf5lcd3pe PHID-DREV-7nzb74ztgndxfaixdal6  2424  accept  \n",
       "PHID-USER-ciaomkrkqpbwfmdqahdu PHID-DREV-45rk7gdsel2xfflh6hys  2470  accept  \n",
       "PHID-USER-ppexvnh4ahku2ypgjpmd PHID-DREV-qo6b3j3wrruxlqsmusyk  2474  accept  "
      ]
     },
     "execution_count": 22,
     "metadata": {},
     "output_type": "execute_result"
    }
   ],
   "source": [
    "first_review = grouped_interactions.first()\n",
    "first_review.head()"
   ]
  },
  {
   "cell_type": "markdown",
   "metadata": {},
   "source": [
    "We can see that only the first interaction per-review was selected for a given reviewer."
   ]
  },
  {
   "cell_type": "code",
   "execution_count": 23,
   "metadata": {},
   "outputs": [
    {
     "data": {
      "text/html": [
       "<div>\n",
       "<style scoped>\n",
       "    .dataframe tbody tr th:only-of-type {\n",
       "        vertical-align: middle;\n",
       "    }\n",
       "\n",
       "    .dataframe tbody tr th {\n",
       "        vertical-align: top;\n",
       "    }\n",
       "\n",
       "    .dataframe thead th {\n",
       "        text-align: right;\n",
       "    }\n",
       "</style>\n",
       "<table border=\"1\" class=\"dataframe\">\n",
       "  <thead>\n",
       "    <tr style=\"text-align: right;\">\n",
       "      <th></th>\n",
       "      <th>dateReviewed</th>\n",
       "      <th>id</th>\n",
       "      <th>type</th>\n",
       "    </tr>\n",
       "    <tr>\n",
       "      <th>revision</th>\n",
       "      <th></th>\n",
       "      <th></th>\n",
       "      <th></th>\n",
       "    </tr>\n",
       "  </thead>\n",
       "  <tbody>\n",
       "    <tr>\n",
       "      <th>PHID-DREV-23t4txjuupbq2pmavbcb</th>\n",
       "      <td>2017-10-16 22:39:51+00:00</td>\n",
       "      <td>2844</td>\n",
       "      <td>accept</td>\n",
       "    </tr>\n",
       "    <tr>\n",
       "      <th>PHID-DREV-yxbfrdfwxp6oq3yjjncl</th>\n",
       "      <td>2017-10-16 22:40:58+00:00</td>\n",
       "      <td>2846</td>\n",
       "      <td>accept</td>\n",
       "    </tr>\n",
       "    <tr>\n",
       "      <th>PHID-DREV-4c62atqhi4c4cmtk4acz</th>\n",
       "      <td>2017-10-17 14:37:39+00:00</td>\n",
       "      <td>2909</td>\n",
       "      <td>accept</td>\n",
       "    </tr>\n",
       "    <tr>\n",
       "      <th>PHID-DREV-6f2j4scabjtbmgrpdikq</th>\n",
       "      <td>2017-10-17 18:32:14+00:00</td>\n",
       "      <td>2984</td>\n",
       "      <td>request-changes</td>\n",
       "    </tr>\n",
       "    <tr>\n",
       "      <th>PHID-DREV-ilvj3v4dfoff3hfpj5sp</th>\n",
       "      <td>2017-10-20 16:21:06+00:00</td>\n",
       "      <td>3369</td>\n",
       "      <td>accept</td>\n",
       "    </tr>\n",
       "  </tbody>\n",
       "</table>\n",
       "</div>"
      ],
      "text/plain": [
       "                                            dateReviewed    id  \\\n",
       "revision                                                         \n",
       "PHID-DREV-23t4txjuupbq2pmavbcb 2017-10-16 22:39:51+00:00  2844   \n",
       "PHID-DREV-yxbfrdfwxp6oq3yjjncl 2017-10-16 22:40:58+00:00  2846   \n",
       "PHID-DREV-4c62atqhi4c4cmtk4acz 2017-10-17 14:37:39+00:00  2909   \n",
       "PHID-DREV-6f2j4scabjtbmgrpdikq 2017-10-17 18:32:14+00:00  2984   \n",
       "PHID-DREV-ilvj3v4dfoff3hfpj5sp 2017-10-20 16:21:06+00:00  3369   \n",
       "\n",
       "                                           type  \n",
       "revision                                         \n",
       "PHID-DREV-23t4txjuupbq2pmavbcb           accept  \n",
       "PHID-DREV-yxbfrdfwxp6oq3yjjncl           accept  \n",
       "PHID-DREV-4c62atqhi4c4cmtk4acz           accept  \n",
       "PHID-DREV-6f2j4scabjtbmgrpdikq  request-changes  \n",
       "PHID-DREV-ilvj3v4dfoff3hfpj5sp           accept  "
      ]
     },
     "execution_count": 23,
     "metadata": {},
     "output_type": "execute_result"
    }
   ],
   "source": [
    "first_review.loc[\"PHID-USER-bc7buyjofiulmsokmvj3\"].head()"
   ]
  },
  {
   "cell_type": "markdown",
   "metadata": {},
   "source": [
    "Merge in the time that the revisions were first created."
   ]
  },
  {
   "cell_type": "code",
   "execution_count": 24,
   "metadata": {},
   "outputs": [
    {
     "data": {
      "text/plain": [
       "(17977, 6)"
      ]
     },
     "execution_count": 24,
     "metadata": {},
     "output_type": "execute_result"
    }
   ],
   "source": [
    "opens = df[df[\"type\"] == \"create\"][[\"revision\", \"dateCreated\"]].rename(\n",
    "    columns={\"dateCreated\": \"dateRevisionCreated\"}\n",
    ")\n",
    "reviews = pd.merge(first_review.reset_index(), opens, on=\"revision\")\n",
    "reviews.shape"
   ]
  },
  {
   "cell_type": "code",
   "execution_count": 25,
   "metadata": {},
   "outputs": [
    {
     "data": {
      "text/html": [
       "<div>\n",
       "<style scoped>\n",
       "    .dataframe tbody tr th:only-of-type {\n",
       "        vertical-align: middle;\n",
       "    }\n",
       "\n",
       "    .dataframe tbody tr th {\n",
       "        vertical-align: top;\n",
       "    }\n",
       "\n",
       "    .dataframe thead th {\n",
       "        text-align: right;\n",
       "    }\n",
       "</style>\n",
       "<table border=\"1\" class=\"dataframe\">\n",
       "  <thead>\n",
       "    <tr style=\"text-align: right;\">\n",
       "      <th></th>\n",
       "      <th>reviewer</th>\n",
       "      <th>revision</th>\n",
       "      <th>dateReviewed</th>\n",
       "      <th>id</th>\n",
       "      <th>type</th>\n",
       "      <th>dateRevisionCreated</th>\n",
       "    </tr>\n",
       "  </thead>\n",
       "  <tbody>\n",
       "    <tr>\n",
       "      <th>0</th>\n",
       "      <td>PHID-USER-goay3vnqs5ldxywsyhgx</td>\n",
       "      <td>PHID-DREV-jqheldrf42ofmcyifequ</td>\n",
       "      <td>2017-09-19 08:36:30+00:00</td>\n",
       "      <td>1259</td>\n",
       "      <td>accept</td>\n",
       "      <td>2017-09-19 04:45:09+00:00</td>\n",
       "    </tr>\n",
       "    <tr>\n",
       "      <th>1</th>\n",
       "      <td>PHID-USER-l4frlm5ami3cecyifazx</td>\n",
       "      <td>PHID-DREV-nzvfd4l56oze55mp6xxb</td>\n",
       "      <td>2017-10-03 21:01:26+00:00</td>\n",
       "      <td>1976</td>\n",
       "      <td>accept</td>\n",
       "      <td>2017-10-03 20:23:08+00:00</td>\n",
       "    </tr>\n",
       "    <tr>\n",
       "      <th>2</th>\n",
       "      <td>PHID-USER-yeffbpgn7yuxf5lcd3pe</td>\n",
       "      <td>PHID-DREV-7nzb74ztgndxfaixdal6</td>\n",
       "      <td>2017-10-10 20:16:29+00:00</td>\n",
       "      <td>2424</td>\n",
       "      <td>accept</td>\n",
       "      <td>2017-10-10 18:54:31+00:00</td>\n",
       "    </tr>\n",
       "    <tr>\n",
       "      <th>3</th>\n",
       "      <td>PHID-USER-ciaomkrkqpbwfmdqahdu</td>\n",
       "      <td>PHID-DREV-45rk7gdsel2xfflh6hys</td>\n",
       "      <td>2017-10-11 07:37:59+00:00</td>\n",
       "      <td>2470</td>\n",
       "      <td>accept</td>\n",
       "      <td>2017-10-10 17:09:46+00:00</td>\n",
       "    </tr>\n",
       "    <tr>\n",
       "      <th>4</th>\n",
       "      <td>PHID-USER-ppexvnh4ahku2ypgjpmd</td>\n",
       "      <td>PHID-DREV-qo6b3j3wrruxlqsmusyk</td>\n",
       "      <td>2017-10-11 08:15:41+00:00</td>\n",
       "      <td>2474</td>\n",
       "      <td>accept</td>\n",
       "      <td>2017-10-10 21:34:40+00:00</td>\n",
       "    </tr>\n",
       "  </tbody>\n",
       "</table>\n",
       "</div>"
      ],
      "text/plain": [
       "                         reviewer                        revision  \\\n",
       "0  PHID-USER-goay3vnqs5ldxywsyhgx  PHID-DREV-jqheldrf42ofmcyifequ   \n",
       "1  PHID-USER-l4frlm5ami3cecyifazx  PHID-DREV-nzvfd4l56oze55mp6xxb   \n",
       "2  PHID-USER-yeffbpgn7yuxf5lcd3pe  PHID-DREV-7nzb74ztgndxfaixdal6   \n",
       "3  PHID-USER-ciaomkrkqpbwfmdqahdu  PHID-DREV-45rk7gdsel2xfflh6hys   \n",
       "4  PHID-USER-ppexvnh4ahku2ypgjpmd  PHID-DREV-qo6b3j3wrruxlqsmusyk   \n",
       "\n",
       "               dateReviewed    id    type       dateRevisionCreated  \n",
       "0 2017-09-19 08:36:30+00:00  1259  accept 2017-09-19 04:45:09+00:00  \n",
       "1 2017-10-03 21:01:26+00:00  1976  accept 2017-10-03 20:23:08+00:00  \n",
       "2 2017-10-10 20:16:29+00:00  2424  accept 2017-10-10 18:54:31+00:00  \n",
       "3 2017-10-11 07:37:59+00:00  2470  accept 2017-10-10 17:09:46+00:00  \n",
       "4 2017-10-11 08:15:41+00:00  2474  accept 2017-10-10 21:34:40+00:00  "
      ]
     },
     "execution_count": 25,
     "metadata": {},
     "output_type": "execute_result"
    }
   ],
   "source": [
    "reviews.head()"
   ]
  },
  {
   "cell_type": "markdown",
   "metadata": {},
   "source": [
    "When calculating the time from revision creation until a review is performed we want to calculate *business days*, not calendar days.  If we don't do this then reviews that cross weekends could skew the results."
   ]
  },
  {
   "cell_type": "code",
   "execution_count": 26,
   "metadata": {},
   "outputs": [
    {
     "data": {
      "text/html": [
       "<div>\n",
       "<style scoped>\n",
       "    .dataframe tbody tr th:only-of-type {\n",
       "        vertical-align: middle;\n",
       "    }\n",
       "\n",
       "    .dataframe tbody tr th {\n",
       "        vertical-align: top;\n",
       "    }\n",
       "\n",
       "    .dataframe thead th {\n",
       "        text-align: right;\n",
       "    }\n",
       "</style>\n",
       "<table border=\"1\" class=\"dataframe\">\n",
       "  <thead>\n",
       "    <tr style=\"text-align: right;\">\n",
       "      <th></th>\n",
       "      <th>reviewer</th>\n",
       "      <th>revision</th>\n",
       "      <th>dateReviewed</th>\n",
       "      <th>id</th>\n",
       "      <th>type</th>\n",
       "      <th>dateRevisionCreated</th>\n",
       "      <th>review_duration</th>\n",
       "    </tr>\n",
       "  </thead>\n",
       "  <tbody>\n",
       "    <tr>\n",
       "      <th>0</th>\n",
       "      <td>PHID-USER-goay3vnqs5ldxywsyhgx</td>\n",
       "      <td>PHID-DREV-jqheldrf42ofmcyifequ</td>\n",
       "      <td>2017-09-19 08:36:30+00:00</td>\n",
       "      <td>1259</td>\n",
       "      <td>accept</td>\n",
       "      <td>2017-09-19 04:45:09+00:00</td>\n",
       "      <td>03:51:21</td>\n",
       "    </tr>\n",
       "    <tr>\n",
       "      <th>1</th>\n",
       "      <td>PHID-USER-l4frlm5ami3cecyifazx</td>\n",
       "      <td>PHID-DREV-nzvfd4l56oze55mp6xxb</td>\n",
       "      <td>2017-10-03 21:01:26+00:00</td>\n",
       "      <td>1976</td>\n",
       "      <td>accept</td>\n",
       "      <td>2017-10-03 20:23:08+00:00</td>\n",
       "      <td>00:38:18</td>\n",
       "    </tr>\n",
       "    <tr>\n",
       "      <th>2</th>\n",
       "      <td>PHID-USER-yeffbpgn7yuxf5lcd3pe</td>\n",
       "      <td>PHID-DREV-7nzb74ztgndxfaixdal6</td>\n",
       "      <td>2017-10-10 20:16:29+00:00</td>\n",
       "      <td>2424</td>\n",
       "      <td>accept</td>\n",
       "      <td>2017-10-10 18:54:31+00:00</td>\n",
       "      <td>01:21:58</td>\n",
       "    </tr>\n",
       "    <tr>\n",
       "      <th>3</th>\n",
       "      <td>PHID-USER-ciaomkrkqpbwfmdqahdu</td>\n",
       "      <td>PHID-DREV-45rk7gdsel2xfflh6hys</td>\n",
       "      <td>2017-10-11 07:37:59+00:00</td>\n",
       "      <td>2470</td>\n",
       "      <td>accept</td>\n",
       "      <td>2017-10-10 17:09:46+00:00</td>\n",
       "      <td>14:28:13</td>\n",
       "    </tr>\n",
       "    <tr>\n",
       "      <th>4</th>\n",
       "      <td>PHID-USER-ppexvnh4ahku2ypgjpmd</td>\n",
       "      <td>PHID-DREV-qo6b3j3wrruxlqsmusyk</td>\n",
       "      <td>2017-10-11 08:15:41+00:00</td>\n",
       "      <td>2474</td>\n",
       "      <td>accept</td>\n",
       "      <td>2017-10-10 21:34:40+00:00</td>\n",
       "      <td>10:41:01</td>\n",
       "    </tr>\n",
       "  </tbody>\n",
       "</table>\n",
       "</div>"
      ],
      "text/plain": [
       "                         reviewer                        revision  \\\n",
       "0  PHID-USER-goay3vnqs5ldxywsyhgx  PHID-DREV-jqheldrf42ofmcyifequ   \n",
       "1  PHID-USER-l4frlm5ami3cecyifazx  PHID-DREV-nzvfd4l56oze55mp6xxb   \n",
       "2  PHID-USER-yeffbpgn7yuxf5lcd3pe  PHID-DREV-7nzb74ztgndxfaixdal6   \n",
       "3  PHID-USER-ciaomkrkqpbwfmdqahdu  PHID-DREV-45rk7gdsel2xfflh6hys   \n",
       "4  PHID-USER-ppexvnh4ahku2ypgjpmd  PHID-DREV-qo6b3j3wrruxlqsmusyk   \n",
       "\n",
       "               dateReviewed    id    type       dateRevisionCreated  \\\n",
       "0 2017-09-19 08:36:30+00:00  1259  accept 2017-09-19 04:45:09+00:00   \n",
       "1 2017-10-03 21:01:26+00:00  1976  accept 2017-10-03 20:23:08+00:00   \n",
       "2 2017-10-10 20:16:29+00:00  2424  accept 2017-10-10 18:54:31+00:00   \n",
       "3 2017-10-11 07:37:59+00:00  2470  accept 2017-10-10 17:09:46+00:00   \n",
       "4 2017-10-11 08:15:41+00:00  2474  accept 2017-10-10 21:34:40+00:00   \n",
       "\n",
       "  review_duration  \n",
       "0        03:51:21  \n",
       "1        00:38:18  \n",
       "2        01:21:58  \n",
       "3        14:28:13  \n",
       "4        10:41:01  "
      ]
     },
     "execution_count": 26,
     "metadata": {},
     "output_type": "execute_result"
    }
   ],
   "source": [
    "from businessdays import bday_duration\n",
    "\n",
    "reviews[\"review_duration\"] = reviews.apply(\n",
    "    lambda x: bday_duration(x[\"dateRevisionCreated\"], x[\"dateReviewed\"]),\n",
    "    axis=\"columns\",\n",
    ")\n",
    "reviews.head()"
   ]
  },
  {
   "cell_type": "markdown",
   "metadata": {},
   "source": [
    "Group by reviewer and find the median time to review."
   ]
  },
  {
   "cell_type": "code",
   "execution_count": 27,
   "metadata": {},
   "outputs": [
    {
     "data": {
      "text/html": [
       "<div>\n",
       "<style scoped>\n",
       "    .dataframe tbody tr th:only-of-type {\n",
       "        vertical-align: middle;\n",
       "    }\n",
       "\n",
       "    .dataframe tbody tr th {\n",
       "        vertical-align: top;\n",
       "    }\n",
       "\n",
       "    .dataframe thead th {\n",
       "        text-align: right;\n",
       "    }\n",
       "</style>\n",
       "<table border=\"1\" class=\"dataframe\">\n",
       "  <thead>\n",
       "    <tr style=\"text-align: right;\">\n",
       "      <th></th>\n",
       "      <th>median_hours_to_review</th>\n",
       "      <th>review_count</th>\n",
       "    </tr>\n",
       "  </thead>\n",
       "  <tbody>\n",
       "    <tr>\n",
       "      <th>0</th>\n",
       "      <td>14.199444</td>\n",
       "      <td>493</td>\n",
       "    </tr>\n",
       "    <tr>\n",
       "      <th>1</th>\n",
       "      <td>12.043611</td>\n",
       "      <td>457</td>\n",
       "    </tr>\n",
       "    <tr>\n",
       "      <th>2</th>\n",
       "      <td>13.271389</td>\n",
       "      <td>347</td>\n",
       "    </tr>\n",
       "    <tr>\n",
       "      <th>3</th>\n",
       "      <td>15.836944</td>\n",
       "      <td>331</td>\n",
       "    </tr>\n",
       "    <tr>\n",
       "      <th>4</th>\n",
       "      <td>12.716111</td>\n",
       "      <td>287</td>\n",
       "    </tr>\n",
       "    <tr>\n",
       "      <th>5</th>\n",
       "      <td>9.837500</td>\n",
       "      <td>277</td>\n",
       "    </tr>\n",
       "    <tr>\n",
       "      <th>6</th>\n",
       "      <td>2.798611</td>\n",
       "      <td>275</td>\n",
       "    </tr>\n",
       "    <tr>\n",
       "      <th>7</th>\n",
       "      <td>27.797083</td>\n",
       "      <td>230</td>\n",
       "    </tr>\n",
       "    <tr>\n",
       "      <th>8</th>\n",
       "      <td>21.155278</td>\n",
       "      <td>223</td>\n",
       "    </tr>\n",
       "    <tr>\n",
       "      <th>9</th>\n",
       "      <td>17.702500</td>\n",
       "      <td>223</td>\n",
       "    </tr>\n",
       "    <tr>\n",
       "      <th>10</th>\n",
       "      <td>24.064167</td>\n",
       "      <td>217</td>\n",
       "    </tr>\n",
       "    <tr>\n",
       "      <th>11</th>\n",
       "      <td>3.257083</td>\n",
       "      <td>216</td>\n",
       "    </tr>\n",
       "    <tr>\n",
       "      <th>12</th>\n",
       "      <td>20.941528</td>\n",
       "      <td>216</td>\n",
       "    </tr>\n",
       "    <tr>\n",
       "      <th>13</th>\n",
       "      <td>26.432778</td>\n",
       "      <td>214</td>\n",
       "    </tr>\n",
       "    <tr>\n",
       "      <th>14</th>\n",
       "      <td>23.895556</td>\n",
       "      <td>213</td>\n",
       "    </tr>\n",
       "    <tr>\n",
       "      <th>15</th>\n",
       "      <td>21.628750</td>\n",
       "      <td>208</td>\n",
       "    </tr>\n",
       "    <tr>\n",
       "      <th>16</th>\n",
       "      <td>15.424167</td>\n",
       "      <td>198</td>\n",
       "    </tr>\n",
       "    <tr>\n",
       "      <th>17</th>\n",
       "      <td>1.665278</td>\n",
       "      <td>195</td>\n",
       "    </tr>\n",
       "    <tr>\n",
       "      <th>18</th>\n",
       "      <td>8.720417</td>\n",
       "      <td>188</td>\n",
       "    </tr>\n",
       "    <tr>\n",
       "      <th>19</th>\n",
       "      <td>3.714167</td>\n",
       "      <td>181</td>\n",
       "    </tr>\n",
       "    <tr>\n",
       "      <th>20</th>\n",
       "      <td>17.126389</td>\n",
       "      <td>179</td>\n",
       "    </tr>\n",
       "    <tr>\n",
       "      <th>21</th>\n",
       "      <td>51.177500</td>\n",
       "      <td>176</td>\n",
       "    </tr>\n",
       "    <tr>\n",
       "      <th>22</th>\n",
       "      <td>1.579028</td>\n",
       "      <td>176</td>\n",
       "    </tr>\n",
       "    <tr>\n",
       "      <th>23</th>\n",
       "      <td>16.722222</td>\n",
       "      <td>171</td>\n",
       "    </tr>\n",
       "    <tr>\n",
       "      <th>24</th>\n",
       "      <td>14.480278</td>\n",
       "      <td>164</td>\n",
       "    </tr>\n",
       "    <tr>\n",
       "      <th>25</th>\n",
       "      <td>8.445833</td>\n",
       "      <td>161</td>\n",
       "    </tr>\n",
       "    <tr>\n",
       "      <th>26</th>\n",
       "      <td>22.205833</td>\n",
       "      <td>159</td>\n",
       "    </tr>\n",
       "    <tr>\n",
       "      <th>27</th>\n",
       "      <td>17.470556</td>\n",
       "      <td>157</td>\n",
       "    </tr>\n",
       "    <tr>\n",
       "      <th>28</th>\n",
       "      <td>21.714306</td>\n",
       "      <td>156</td>\n",
       "    </tr>\n",
       "    <tr>\n",
       "      <th>29</th>\n",
       "      <td>10.558889</td>\n",
       "      <td>154</td>\n",
       "    </tr>\n",
       "    <tr>\n",
       "      <th>30</th>\n",
       "      <td>13.452222</td>\n",
       "      <td>149</td>\n",
       "    </tr>\n",
       "    <tr>\n",
       "      <th>31</th>\n",
       "      <td>25.244722</td>\n",
       "      <td>147</td>\n",
       "    </tr>\n",
       "    <tr>\n",
       "      <th>32</th>\n",
       "      <td>2.355417</td>\n",
       "      <td>146</td>\n",
       "    </tr>\n",
       "    <tr>\n",
       "      <th>33</th>\n",
       "      <td>14.676944</td>\n",
       "      <td>146</td>\n",
       "    </tr>\n",
       "    <tr>\n",
       "      <th>34</th>\n",
       "      <td>6.449167</td>\n",
       "      <td>145</td>\n",
       "    </tr>\n",
       "    <tr>\n",
       "      <th>35</th>\n",
       "      <td>5.681111</td>\n",
       "      <td>143</td>\n",
       "    </tr>\n",
       "    <tr>\n",
       "      <th>36</th>\n",
       "      <td>5.876944</td>\n",
       "      <td>142</td>\n",
       "    </tr>\n",
       "    <tr>\n",
       "      <th>37</th>\n",
       "      <td>14.351944</td>\n",
       "      <td>141</td>\n",
       "    </tr>\n",
       "    <tr>\n",
       "      <th>38</th>\n",
       "      <td>25.004861</td>\n",
       "      <td>140</td>\n",
       "    </tr>\n",
       "    <tr>\n",
       "      <th>39</th>\n",
       "      <td>11.928611</td>\n",
       "      <td>139</td>\n",
       "    </tr>\n",
       "    <tr>\n",
       "      <th>40</th>\n",
       "      <td>4.147917</td>\n",
       "      <td>136</td>\n",
       "    </tr>\n",
       "    <tr>\n",
       "      <th>41</th>\n",
       "      <td>17.768889</td>\n",
       "      <td>134</td>\n",
       "    </tr>\n",
       "    <tr>\n",
       "      <th>42</th>\n",
       "      <td>13.333750</td>\n",
       "      <td>132</td>\n",
       "    </tr>\n",
       "    <tr>\n",
       "      <th>43</th>\n",
       "      <td>13.951250</td>\n",
       "      <td>132</td>\n",
       "    </tr>\n",
       "    <tr>\n",
       "      <th>44</th>\n",
       "      <td>15.224167</td>\n",
       "      <td>131</td>\n",
       "    </tr>\n",
       "    <tr>\n",
       "      <th>45</th>\n",
       "      <td>19.034861</td>\n",
       "      <td>130</td>\n",
       "    </tr>\n",
       "    <tr>\n",
       "      <th>46</th>\n",
       "      <td>20.466389</td>\n",
       "      <td>130</td>\n",
       "    </tr>\n",
       "    <tr>\n",
       "      <th>47</th>\n",
       "      <td>19.918611</td>\n",
       "      <td>129</td>\n",
       "    </tr>\n",
       "    <tr>\n",
       "      <th>48</th>\n",
       "      <td>17.300000</td>\n",
       "      <td>127</td>\n",
       "    </tr>\n",
       "    <tr>\n",
       "      <th>49</th>\n",
       "      <td>12.806389</td>\n",
       "      <td>126</td>\n",
       "    </tr>\n",
       "  </tbody>\n",
       "</table>\n",
       "</div>"
      ],
      "text/plain": [
       "    median_hours_to_review  review_count\n",
       "0                14.199444           493\n",
       "1                12.043611           457\n",
       "2                13.271389           347\n",
       "3                15.836944           331\n",
       "4                12.716111           287\n",
       "5                 9.837500           277\n",
       "6                 2.798611           275\n",
       "7                27.797083           230\n",
       "8                21.155278           223\n",
       "9                17.702500           223\n",
       "10               24.064167           217\n",
       "11                3.257083           216\n",
       "12               20.941528           216\n",
       "13               26.432778           214\n",
       "14               23.895556           213\n",
       "15               21.628750           208\n",
       "16               15.424167           198\n",
       "17                1.665278           195\n",
       "18                8.720417           188\n",
       "19                3.714167           181\n",
       "20               17.126389           179\n",
       "21               51.177500           176\n",
       "22                1.579028           176\n",
       "23               16.722222           171\n",
       "24               14.480278           164\n",
       "25                8.445833           161\n",
       "26               22.205833           159\n",
       "27               17.470556           157\n",
       "28               21.714306           156\n",
       "29               10.558889           154\n",
       "30               13.452222           149\n",
       "31               25.244722           147\n",
       "32                2.355417           146\n",
       "33               14.676944           146\n",
       "34                6.449167           145\n",
       "35                5.681111           143\n",
       "36                5.876944           142\n",
       "37               14.351944           141\n",
       "38               25.004861           140\n",
       "39               11.928611           139\n",
       "40                4.147917           136\n",
       "41               17.768889           134\n",
       "42               13.333750           132\n",
       "43               13.951250           132\n",
       "44               15.224167           131\n",
       "45               19.034861           130\n",
       "46               20.466389           130\n",
       "47               19.918611           129\n",
       "48               17.300000           127\n",
       "49               12.806389           126"
      ]
     },
     "execution_count": 27,
     "metadata": {},
     "output_type": "execute_result"
    }
   ],
   "source": [
    "hours_to_review = reviews.set_index(\"reviewer\")[\"review_duration\"].dt.total_seconds() / 3600\n",
    "grouped_reviews = hours_to_review.groupby(\"reviewer\")\n",
    "reviewer_stats = pd.DataFrame({\"median_hours_to_review\": grouped_reviews.median(), \"review_count\": grouped_reviews.size()})\n",
    "reviewer_stats.sort_values(\"review_count\", ascending=False).head(50).reset_index(drop=True)"
   ]
  },
  {
   "cell_type": "markdown",
   "metadata": {},
   "source": [
    "Merge in the real usernames and save the final output to a .csv file."
   ]
  },
  {
   "cell_type": "code",
   "execution_count": 28,
   "metadata": {},
   "outputs": [],
   "source": [
    "report = reviewer_stats.join(users_df.set_index(\"phid\")[[\"realName\", \"username\"]])\n",
    "report = report.rename(\n",
    "    columns={\n",
    "        \"realName\": \"real_name\",\n",
    "        \"username\": \"phabricator_user\",\n",
    "    }\n",
    ")\n",
    "report = report.sort_values(\"review_count\", ascending=False).reset_index(drop=True)\n",
    "outfile = datapath / \"median-review-times.csv\"\n",
    "report.to_csv(outfile)"
   ]
  }
 ],
 "metadata": {
  "kernelspec": {
   "display_name": "Python 3",
   "language": "python",
   "name": "python3"
  },
  "language_info": {
   "codemirror_mode": {
    "name": "ipython",
    "version": 3
   },
   "file_extension": ".py",
   "mimetype": "text/x-python",
   "name": "python",
   "nbconvert_exporter": "python",
   "pygments_lexer": "ipython3",
   "version": "3.6.5"
  }
 },
 "nbformat": 4,
 "nbformat_minor": 2
}
